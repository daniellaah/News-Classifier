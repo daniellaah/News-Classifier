{
 "cells": [
  {
   "cell_type": "markdown",
   "metadata": {},
   "source": [
    "## 数据获取"
   ]
  },
  {
   "cell_type": "markdown",
   "metadata": {},
   "source": [
    "搜狗实验室: http://www.sogou.com/labs/resource/cs.php\n",
    "下载并解压后得到news_sohusite_xml.dat文件, 由于该文件是gbk编码, 使用`iconv`命令进行编码格式转换, 使用`grep -E`截取包含`<content>`和`<url>`的行的内容, 将输出重定向到news.txt中:   "
   ]
  },
  {
   "cell_type": "markdown",
   "metadata": {},
   "source": [
    "```cat news_sohusite_xml.dat | iconv -f gbk -t utf-8 | grep -E \"<content>|<url>\" > sohu_news.txt```"
   ]
  },
  {
   "cell_type": "markdown",
   "metadata": {},
   "source": [
    "但在我的机器上老是报错`iconv: (stdin):5:291: cannot convert`, 在`iconv`命令最后加一个`-c`表示丢弃那些无法被转换的字符:"
   ]
  },
  {
   "cell_type": "markdown",
   "metadata": {},
   "source": [
    "```cat news_sohusite_xml.dat | iconv -f gbk -t utf-8 -c | grep -E \"<content>|<url>\" > sohu_news.txt```"
   ]
  },
  {
   "cell_type": "markdown",
   "metadata": {},
   "source": [
    "我们还需要下载类别标记说明(URL到类别的映射关系)`categories_2012.txt`, 从这个文件中我们可以得到不同的url对应的类别.  \n",
    "例如`<url>http://gongyi.sohu.com/20120706/n347457739.shtml</url>`, 通过查看映射关系:我们知道该新闻属于公益类的."
   ]
  },
  {
   "cell_type": "markdown",
   "metadata": {},
   "source": [
    "我们仅对如下几个类别进行实验:\n",
    "\n",
    "|类别|URL|\n",
    "|:-:|:-:|\n",
    "|财经|http://business.sohu.com/|\n",
    "|IT|http://it.sohu.com/|\n",
    "|体育 |http://sports.sohu.com/|\n",
    "|教育 |http://learning.sohu.com/|\n",
    "|军事 |http://mil.news.sohu.com/|\n",
    "|娱乐 |http://yule.sohu.com/\n"
   ]
  },
  {
   "cell_type": "code",
   "execution_count": 14,
   "metadata": {
    "collapsed": false
   },
   "outputs": [],
   "source": [
    "category = {\n",
    "    \"cul\": \"文化\",\n",
    "    \"business\": \"财经\",\n",
    "    \"it\": \"IT\",\n",
    "    \"sports\": \"体育\",\n",
    "    \"learning\": \"教育\",\n",
    "    \"yule\": \"娱乐\"\n",
    "}\n",
    "import os"
   ]
  },
  {
   "cell_type": "code",
   "execution_count": 15,
   "metadata": {
    "collapsed": false
   },
   "outputs": [],
   "source": [
    "if not os.path.exists(\"news_data\"):\n",
    "    os.mkdir(\"news_data\")\n",
    "for cate in category.values():\n",
    "    os.mkdir(os.path.join(\"news_data\", cate))"
   ]
  },
  {
   "cell_type": "code",
   "execution_count": 16,
   "metadata": {
    "collapsed": false
   },
   "outputs": [],
   "source": [
    "import re\n",
    "import time\n",
    "with open(\"sohu_news.txt\", \"r\") as f:\n",
    "    i = 0\n",
    "    for line in f.readlines():\n",
    "        if i % 2 == 0:\n",
    "            cate = re.match(r\".+http://([a-z]+)?\", line.strip())\n",
    "#             print(cate.group(1))\n",
    "        if i % 2 != 0:\n",
    "            if cate and cate.group(1) in category:\n",
    "                path = os.path.join(\"news_data\", category[cate.group(1)])\n",
    "                content = line.strip()[9:-10]\n",
    "                if content and len(content) > 500:\n",
    "                    with open(os.path.join(path, str(i)), 'w') as f_content:\n",
    "                        f_content.write(content)\n",
    "        i += 1"
   ]
  },
  {
   "cell_type": "code",
   "execution_count": null,
   "metadata": {
    "collapsed": true
   },
   "outputs": [],
   "source": []
  }
 ],
 "metadata": {
  "anaconda-cloud": {},
  "kernelspec": {
   "display_name": "Python [conda env:Python3.5]",
   "language": "python",
   "name": "conda-env-Python3.5-py"
  },
  "language_info": {
   "codemirror_mode": {
    "name": "ipython",
    "version": 3
   },
   "file_extension": ".py",
   "mimetype": "text/x-python",
   "name": "python",
   "nbconvert_exporter": "python",
   "pygments_lexer": "ipython3",
   "version": "3.5.2"
  }
 },
 "nbformat": 4,
 "nbformat_minor": 1
}
